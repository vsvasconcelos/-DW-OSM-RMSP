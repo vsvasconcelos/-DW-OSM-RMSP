{
 "cells": [
  {
   "cell_type": "code",
   "execution_count": 1,
   "metadata": {
    "collapsed": false
   },
   "outputs": [
    {
     "name": "stdout",
     "output_type": "stream",
     "text": [
      "06719500 => com problema\n",
      "09691000 => com problema\n",
      "05315030 => com problema\n",
      "05077010 => com problema\n",
      "06150000 => com problema\n",
      "06655300 => com problema\n",
      "08330510 => com problema\n",
      "05060060 => com problema\n",
      "09890 070 => com problema\n",
      "07180041 => com problema\n",
      "09890 070 => com problema\n",
      "04191140 => com problema\n",
      "08430540 => com problema\n"
     ]
    }
   ],
   "source": [
    "import xml.etree.cElementTree as ET\n",
    "from collections import defaultdict\n",
    "import re\n",
    "import pprint\n",
    "\n",
    "arquivo = \"/media/vagner/Seagate Expansion Drive/500Gb/DiskExternoVagner/Cursos/CientistaDados/Modulo_4/DW-OSM-RMSP/sample.osm\"\n",
    "#arquivo = r'F:\\500Gb\\DiskExternoVagner\\Cursos\\CientistaDados\\Modulo_4\\DW-OSM-RMSP\\sample.osm'\n",
    "\n",
    "osm_file = open(arquivo, \"r\")\n",
    "\n",
    " \n",
    "\n",
    "def audit():\n",
    "    \"\"\"     Realiza análise baseada no evento \"tag de ínicio\"; quando este ocorre o elemento em questão é \n",
    "    identificado e se for do tipo \"way\", o método \"iter\" é chamado; este método realiza uma iteração de todas as \n",
    "    subtags (tags aninhadas) do tipo \"tag\".\n",
    "    \"\"\"\n",
    "    for event, elem in ET.iterparse(osm_file, events=(\"start\",)):\n",
    "        if elem.tag == \"way\":\n",
    "            for tag in elem.iter(\"tag\"):\n",
    "                if is_postcode(tag):\n",
    "                    audit_postcode(tag.attrib['v'])\n",
    "\n",
    "def is_postcode(elem):\n",
    "    \"\"\"     Verifica se o tag é um atributo de (addr:postcode). Retorna um Boolean (True se atributo\n",
    "    de CEP)           \n",
    "    \"\"\"\n",
    "    return (elem.attrib['k'] == \"addr:postcode\")\n",
    "\n",
    "def audit_postcode(postcode):\n",
    "    \"\"\"     Utiliza expressão regular para verificar o ínicio do campo \"addr:street\" identificando assim o Tipo de \n",
    "    Via (Rua, Alamenda, etc)\n",
    "    \"\"\"\n",
    "    postcode_re = re.match(r'^\\d{5}-\\d{3}$', postcode)\n",
    "    #postcode_re = re.match(r'^\\d{5}-?\\d{3}$', postcode)  Considerando o \"-\" opcional\n",
    "    #print postcode_re\n",
    "    if postcode_re== None:\n",
    "        print postcode, \"=>\", \"com problema\" \n",
    "         \n",
    "    \n",
    "if __name__ == '__main__':\n",
    "    audit()\n",
    "    osm_file.close()"
   ]
  },
  {
   "cell_type": "code",
   "execution_count": null,
   "metadata": {
    "collapsed": true
   },
   "outputs": [],
   "source": []
  }
 ],
 "metadata": {
  "anaconda-cloud": {},
  "kernelspec": {
   "display_name": "Python [default]",
   "language": "python",
   "name": "python2"
  },
  "language_info": {
   "codemirror_mode": {
    "name": "ipython",
    "version": 2
   },
   "file_extension": ".py",
   "mimetype": "text/x-python",
   "name": "python",
   "nbconvert_exporter": "python",
   "pygments_lexer": "ipython2",
   "version": "2.7.12"
  }
 },
 "nbformat": 4,
 "nbformat_minor": 0
}
