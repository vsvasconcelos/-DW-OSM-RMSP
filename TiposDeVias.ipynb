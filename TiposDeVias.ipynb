{
 "cells": [
  {
   "cell_type": "code",
   "execution_count": null,
   "metadata": {
    "collapsed": true
   },
   "outputs": [],
   "source": [
    "#!/usr/bin/env python\n",
    "#-*- coding: utf-8 -*-\n",
    "import xml.etree.cElementTree as ET\n",
    "from collections import defaultdict\n",
    "import re\n",
    "\n",
    "osm_file = open(\"/media/vagner/Seagate Expansion Drive/500Gb/\"+\n",
    "                \"DiskExternoVagner/Cursos/CientistaDados/\"+\n",
    "                \"Modulo_4/DW-OSM-RMSP/sample.osm\", \"r\")\n",
    "\n",
    "\n",
    "street_type_re = re.compile(r'^\\S+\\.?',re.IGNORECASE)\n",
    "    # Módulo de expressões regulares para comparar uma sequência de caracteres que não sejam espaço em branco,\n",
    "    # talvez seguido por um ponto - isto é, abreviações ex.: Aven. (Avenida) - no inicio da string (^).\n",
    "    # Ex. \"Rodov. Anhaguera\" ou \"RoD. ANHAGUERA\"\n",
    "street_types = defaultdict(int)\n",
    "\n",
    "def audit_street_type(street_types, street_name):\n",
    "    \"\"\"     Realiza analise do nome das ruas (street_name) buscando\n",
    "    pelos tipos existentes na base (street_types).  \n",
    "    Argumentos:\n",
    "            Recebe os tipos de ruas válidos e o nome da rua lido           \n",
    "    Retornos:\n",
    "            Não possui \n",
    "    \"\"\"\n",
    "    m = street_type_re.search(street_name)\n",
    "    if m:\n",
    "        street_type = m.group()\n",
    "\n",
    "        street_types[street_type] += 1\n",
    "\n",
    "def print_sorted_dict(d):\n",
    "    keys = d.keys()\n",
    "    keys = sorted(keys, key=lambda s: s.lower())\n",
    "    cont=0;\n",
    "    contV=0;\n",
    "    for k in keys:\n",
    "        v = d[k]\n",
    "        print \"%s: %d\" % (k, v) \n",
    "        cont+=1\n",
    "        contV=contV+v\n",
    "    print cont\n",
    "    print contV\n",
    "\n",
    "def is_street_name(elem):\n",
    "    return (elem.tag == \"tag\") and (elem.attrib['k'] == \"addr:street\")\n",
    "\n",
    "def audit():\n",
    "    \"\"\"     Examina o arquivo XML, um tag por vez, utilizando um analisador Sax, de forma a criar um registro\n",
    "    de todos os street_types encontrados no conjunto de dados.\n",
    "    Argumentos:\n",
    "            Não possui           \n",
    "    Retornos: \n",
    "            Não possui \n",
    "    \"\"\"\n",
    "    for event, elem in ET.iterparse(osm_file):\n",
    "        if is_street_name(elem):\n",
    "            audit_street_type(street_types, elem.attrib['v'])    \n",
    "    print_sorted_dict(street_types)    \n",
    "\n",
    "if __name__ == '__main__':\n",
    "    audit()"
   ]
  }
 ],
 "metadata": {
  "kernelspec": {
   "display_name": "Python [default]",
   "language": "python",
   "name": "python2"
  },
  "language_info": {
   "codemirror_mode": {
    "name": "ipython",
    "version": 2
   },
   "file_extension": ".py",
   "mimetype": "text/x-python",
   "name": "python",
   "nbconvert_exporter": "python",
   "pygments_lexer": "ipython2",
   "version": "2.7.12"
  }
 },
 "nbformat": 4,
 "nbformat_minor": 1
}
