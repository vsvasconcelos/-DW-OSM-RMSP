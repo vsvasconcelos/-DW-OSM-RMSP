{
 "cells": [
  {
   "cell_type": "markdown",
   "metadata": {},
   "source": [
    "# <p style=\"text-align: center\"> Limpando Dados do OpenStreetMap da Região Metropolitana de São Paulo </p>  \n",
    "\n",
    "<p style=\"text-align: center\"> [DW-OSM-RMSP.ipynb](http://nbviewer.jupyter.org/github/vsvasconcelos/-DW-OSM-RMSP/blob/master/DW-OSM-RMSP.ipynb)\n",
    "---\n",
    "### <p style=\"text-align: center\"> Vagner Sanches Vasconcelos"
   ]
  },
  {
   "cell_type": "markdown",
   "metadata": {},
   "source": [
    "## Resumo: </p>\n",
    "Neste projeto são utilizados técnicas de tratamento e análise de dados da base do projeto OpenStreetMap especificamente da Região Metropolitana de São Paulo (RMSP); para isso foi utilzado a linguagem de programação Python e o banco de dados MongoDB."
   ]
  },
  {
   "cell_type": "markdown",
   "metadata": {},
   "source": [
    "# 1.0) INTRODUÇÃO </p>\n",
    "Basicamente o processo de análise de dados parte de uma questão ou um problema ao qual deseja-se a resposta; contudo, para chegar a ela, antes é necessário passar pela fase de preparação ou tratamento dos dados (*data wrangling* ou *data munging*), que envolve: obtenção (*gathering*), extração (*extracting*), limpeza (*cleaning*) e armazenamento (storing) dos dados. Após a fase de preparação ocorre efetivamente a análise dos dados, onde estes são explorados de forma a buscar as respostas as questões/problemas que deseja-se responder; ao fim desta análise, conclusões são desenvolvidas e finalmente apresentadas em relatórios.</p>  Segundo o [NYT](https://www.nytimes.com/2014/08/18/technology/for-big-data-scientists-hurdle-to-insights-is-janitor-work.html?_r=0), o processo de preparação dos dados é uma tarefa que ocupa entre 50 e 80% do tempo do analista."
   ]
  },
  {
   "cell_type": "markdown",
   "metadata": {},
   "source": [
    "## 1.1) Questões de Pesquisa </p>  \n",
    "Todas as questões abaixo se referem aos dados que serão carregado no banco de dados MongoDB."
   ]
  },
  {
   "cell_type": "markdown",
   "metadata": {},
   "source": [
    "### 1.1.1) Qual o tamanho da base?\n",
    "### 1.1.2) Qual o número de usuários únicos na base?\n",
    "### 1.1.3) Quais os 3 usuário com maior número de contribuições?\n",
    "### 1.1.4) Qual o número de nós e caminhos encontrado na base?\n",
    "### 1.1.5) Qual o número de nós do tipo \"Ponto de Ônibus\"?"
   ]
  },
  {
   "cell_type": "markdown",
   "metadata": {},
   "source": [
    "# 2.0)  TRATAMENTO DOS DADOS </p>  "
   ]
  },
  {
   "cell_type": "markdown",
   "metadata": {},
   "source": [
    "## 2.1) Obtenção dos Dados </p>  \n",
    "Os dados para realização deste projeto foram obtidos da fonte secundária [OpenStreetMap](http://www.openstreetmap.com.br/), que é um projeto de produção colaborativa de dados geo-espaciais abertos, no qual qualquer pessoa pode editar o mapa e os dados são redistribuídos sob a licença [ODbL](http://www.openstreetmap.org/copyright?locale=pt-BR). </p>  \n",
    "A [RMSP](https://pt.wikipedia.org/wiki/Regi%C3%A3o_Metropolitana_de_S%C3%A3o_Paulo) reúne 39 municípios do estado de São Paulo, sendo a maior região metropolitana do Brasil, e uma das dez mais populosas do mundo.\n",
    "![RMSP](https://upload.wikimedia.org/wikipedia/commons/thumb/5/53/SaoPaulo_RM_SaoPaulo.svg/280px-SaoPaulo_RM_SaoPaulo.svg.png)</p>  "
   ]
  },
  {
   "cell_type": "markdown",
   "metadata": {},
   "source": [
    "## 2.2) Extração dos Dados </p>  \n",
    "A delimitação da RMSP pode ser acessada no [OpenStreetMap](https://www.openstreetmap.org/relation/2661855); contudo, o portal [MapZen](http://wiki.openstreetmap.org/wiki/Mapzen) já possui a base de dados dela pré-selecionada e pronta para download, em vários formatos, sendo o utilizado neste trabalho o *Raw OpenStreetMap datasets* (__XML__); os dados do MapZen são oriundos do OpenStreetMap. Neste [link](https://mapzen.com/data/metro-extracts/metro/sao-paulo_brazil/) estão os dados da RMSP, num arquivo compactado (bz2) de 50MB, que após descompactado gera o arquivo *sao-paulo_brazil.osm* com 764MB. A documentação deste arquivo pode ser acessada [aqui](http://wiki.openstreetmap.org/wiki/OSM_XML)."
   ]
  },
  {
   "cell_type": "markdown",
   "metadata": {},
   "source": [
    "## 2.3) Limpeza dos Dados </p>  "
   ]
  },
  {
   "cell_type": "markdown",
   "metadata": {},
   "source": [
    "Esta etapa foi realizada seguindo as melhores práticas de limpeza de dados (blueprint) conforme [Bradshaw](http://nbviewer.jupyter.org/github/vsvasconcelos/-DW-OSM-RMSP/blob/master/blueprint.ipynb)."
   ]
  },
  {
   "cell_type": "markdown",
   "metadata": {},
   "source": [
    "### 2.3.1) Auditória dos Dados"
   ]
  },
  {
   "cell_type": "markdown",
   "metadata": {},
   "source": [
    "Conforme já apresentado, o conjunto de dados deste trabalho possui 764MB; para facilitar o processo de auditória, começaremos o trabalho analisando uma pequena amosta da base, assim a iteração na investigação será feita mais rapidamente; após validado este processo, ele será aplicado em toda a base.</p>  A amostra da base foi obtida por meio do programa [AmostraBase.ipynb](http://nbviewer.jupyter.org/github/vsvasconcelos/-DW-OSM-RMSP/blob/master/AmostraBase.ipynb), sendo que seu tamanho ficou em 77,5MB. </p>    \n",
    "Inicialmente serão auditados os tipos de vias, tais como: rua; avenida; alameda; praça, etc. Conforme [documentação](http://wiki.openstreetmap.org/wiki/Key:addr), os elementos *node* e *way* utilizam a tag *addr:street* com a finalidade de registrar o tipo de via com seu respectivo nome. O trecho abaixo da base de\n",
    "dados ilustra o exemplo da *Rua João Boemer*."
   ]
  },
  {
   "cell_type": "code",
   "execution_count": null,
   "metadata": {
    "collapsed": false
   },
   "outputs": [],
   "source": [
    "<node changeset=\"45082900\" id=\"4602264559\" lat=\"-23.5312944\" lon=\"-46.6132484\" timestamp=\"2017-01-11T18:12:06$\n",
    "                <tag k=\"addr:city\" v=\"São Paulo\" />\n",
    "                <tag k=\"addr:housenumber\" v=\"1117\" />\n",
    "                <tag k=\"addr:postcode\" v=\"03018-000\" />\n",
    "                <tag k=\"addr:street\" v=\"Rua João Boemer\" />\n",
    "</node>"
   ]
  },
  {
   "cell_type": "markdown",
   "metadata": {},
   "source": [
    "Para obtenção dos nomes das vias e seus respectivos tipos, foi utilizado o módulo de expressões regulares [(re)](https://docs.python.org/2/library/re.html) do Python; sendo este instalado com o seguinte comando: __pip install regex__. </p>   O programa [TiposDeVias.ipynb](http://nbviewer.jupyter.org/github/vsvasconcelos/-DW-OSM-RMSP/blob/master/TiposDeVias.ipynb) busca os tipos de vias encontrados na base bem como suas quantidades. </p>  Conforme a saída do programa *TiposDeVias.ipynb* - apresentada abaixo - na amostra da base foram encontrados 29 tipos de via, distribuidos em 2353 vias, sendo *Rua* o tipo de maior frequência com 1530 registros, seguido por *Avenida* com 694 registros. Contudo, temos por exemplo, os registros *rua, R. e Av.* que respectivamente devem ser os dois registros mais encontrados, mas por desejo dos usuários foram lançados desta forma."
   ]
  },
  {
   "cell_type": "markdown",
   "metadata": {},
   "source": [
    "Saída do programa [TiposDeVias.ipynb](http://nbviewer.jupyter.org/github/vsvasconcelos/-DW-OSM-RMSP/blob/master/TiposDeVias.ipynb) (Nome da via: Quantidade de registros): </p>  Acesso: 1 , Alameda: 26, Alfonso: 1, Av.: 2, Avenida: 694, Calçadão: 1, Complexo: 1, Conselheiro: 1, Dr.: 1, Estrada: 27, Guarara: 1, Ladeira: 1, Largo: 8, Marginal: 1, Passeio: 1, Praça: 21, R.: 3, Rocha: 1, Rodoanel: 1, Rodovia: 11, Rua: 1530, rua: 1, sao: 1, Tavares: 1, Travessa: 9, Via: 3, Viaduto: 1, Viela: 1, Vila: 2"
   ]
  },
  {
   "cell_type": "markdown",
   "metadata": {},
   "source": [
    "Fazendo buscas manuais pelos tipos de vias na base de dados, ex.*Alfonso* - conforme trecho do arquivo abaixo - se observa que o usuário não lançou um tipo de via para esta; isso aconteceu para outros casos, tais como: *Tavares, Rocha, Guarara, Dr. e Conselheiro*"
   ]
  },
  {
   "cell_type": "code",
   "execution_count": null,
   "metadata": {
    "collapsed": false
   },
   "outputs": [],
   "source": [
    "                <tag k=\"name\" v=\"Q Pizza\" />\n",
    "                <tag k=\"amenity\" v=\"fast_food\" />\n",
    "                <tag k=\"addr:city\" v=\"São Paulo\" />\n",
    "                <tag k=\"addr:street\" v=\"Alfonso Bovero\" />\n",
    "                <tag k=\"addr:housenumber\" v=\"724\" />"
   ]
  },
  {
   "cell_type": "markdown",
   "metadata": {},
   "source": [
    "Com os tipos de via reconhecidos, o próximo passo foi auditá-los, identificando todos os tipos de via estranhos presente na base; o programa [AuditaTiposDeVias.ipynb](http://nbviewer.jupyter.org/github/vsvasconcelos/-DW-OSM-RMSP/blob/master/AuditaTiposDeVias.ipynb) realiza essa identificação.\n",
    "Abaixo segue um trecho da saída deste programa:"
   ]
  },
  {
   "cell_type": "code",
   "execution_count": null,
   "metadata": {
    "collapsed": true
   },
   "outputs": [],
   "source": [
    "{u'Av.': set(['Av. Dn. Ana Costa', u'Av. Francisco N\\xf3brega Barbosa']),\n",
    " u'Cal\\xe7ad\\xe3o': set([u'Cal\\xe7ad\\xe3o Amalia Sestine']),\n",
    " u'Complexo': set([u'Complexo Vi\\xe1rio Engenheiro Job Shuji Nogami']),\n",
    " 'Marginal': set(['Marginal Pinheiros local']),\n",
    " 'Passeio': set(['Passeio Itaparica']),\n",
    " u'Pra\\xe7a': set([u'Pra\\xe7a Bom Jesus de Piraporinha',\n",
    "                   u'Pra\\xe7a IV Centen\\xe1rio',\n",
    "                   u'Pra\\xe7a Mau\\xe1',\n",
    "                   u'Pra\\xe7a Miguel Ortega',\n",
    "                   ...\n",
    "                   u'Pra\\xe7a do Oceoan\\xf3grafo']),\n",
    " 'R.': set(['R. Bergamo']),\n",
    " 'Rodoanel': set(['Rodoanel Mario Covas Leste']),\n",
    " 'Via': set(['Via Lateral (Norte)',\n",
    "             'Via Parque',\n",
    "             u'Via de Acesso Jo\\xe3o de Goes'])}"
   ]
  },
  {
   "cell_type": "markdown",
   "metadata": {},
   "source": [
    "A próxima auditoria realizada foi em relação a todos os tags; o programa [AuditaTags.ipynb](http://nbviewer.jupyter.org/github/vsvasconcelos/-DW-OSM-RMSP/blob/master/AuditaTags.ipynb), examina cada um deles verificando e classificando eventuais desvios.</p>    <p style=\"text-align: center\"> __Classificação__: </p>   \n",
    "*lower*: Para tags válidas com somente letras minúsculas;  </p>  \n",
    "*lower_colon*: Para tags válidas com dois-pontos em seus nomes;  </p>    \n",
    "*problemchars*: Para tags com caracteres problemáticos; e </p>    \n",
    "*other*: Para todos os casos que não se enquadram nas 3 outras categórias.</p>   \n",
    "Conforme a saída deste programa, apresenta abaixo, 121 tags apresentaram desvios. "
   ]
  },
  {
   "cell_type": "code",
   "execution_count": null,
   "metadata": {
    "collapsed": true
   },
   "outputs": [],
   "source": [
    "{'lower': 139602, 'lower_colon': 10452, 'other': 120, 'problemchars': 1}"
   ]
  },
  {
   "cell_type": "markdown",
   "metadata": {},
   "source": [
    "Ainda com relação aos tags, o programa [ContagemDosTags.ipynb](http://nbviewer.jupyter.org/github/vsvasconcelos/-DW-OSM-RMSP/blob/master/ContagemDosTags.ipynb) realiza a identificação e a contagem destes. </p>  Abaixo segue a saída do programa, com os tags identificados bem como suas quantidades."
   ]
  },
  {
   "cell_type": "markdown",
   "metadata": {},
   "source": [
    "{'member': 6841,\n",
    " 'nd': 458477,\n",
    " 'node': 338061,\n",
    " 'osm': 1,\n",
    " 'relation': 1010,\n",
    " 'tag': 150175,\n",
    " 'way': 46939}"
   ]
  },
  {
   "cell_type": "markdown",
   "metadata": {},
   "source": [
    "Agora serão auditados os usuários da base, o programa [AuditaUsuarios.ipynb](http://nbviewer.jupyter.org/github/vsvasconcelos/-DW-OSM-RMSP/blob/master/AuditaUsuarios.ipynb) reconhece as identificações dos usuários na base.\n",
    "Abaixo é apresentado o trecho inicial da saída do programa, a qual apresenta que foram identificados 1233 usuários e mostrando suas identificações (uid)."
   ]
  },
  {
   "cell_type": "code",
   "execution_count": null,
   "metadata": {
    "collapsed": true
   },
   "outputs": [],
   "source": [
    "1233\n",
    "set(['102069', '1385426', '1886529', '1866562', '2678586', '967832', '152074', '1425865', '2032261', '526341', ..."
   ]
  },
  {
   "cell_type": "markdown",
   "metadata": {},
   "source": [
    "### 2.3.2) Plano de Limpeza dos Dados </p> \n"
   ]
  },
  {
   "cell_type": "markdown",
   "metadata": {},
   "source": []
  },
  {
   "cell_type": "markdown",
   "metadata": {},
   "source": [
    "### 2.3.3) Execução do Plano de Limpeza dos Dados </p>  "
   ]
  },
  {
   "cell_type": "markdown",
   "metadata": {},
   "source": []
  },
  {
   "cell_type": "markdown",
   "metadata": {},
   "source": [
    "## 2.4) Armazenamento dos Dados </p>  "
   ]
  },
  {
   "cell_type": "markdown",
   "metadata": {},
   "source": [
    "O armazenamento dos dados foi realizado no [MongoDB](https://pt.wikipedia.org/wiki/MongoDB), que é um banco de dados orientados a documentos do tipo [JSON](https://pt.wikipedia.org/wiki/JSON); assim, para subir os dados do OpenStreetMap, que são arquivos XML, para o MongoDB é necessário realizar a conversão de XML para JSON, o que foi realizado com o programa [Xml2Json.ipynb](http://nbviewer.jupyter.org/github/vsvasconcelos/-DW-OSM-RMSP/blob/master/Xml2Json.ipynb). </p> \n",
    "A saída deste programa foi um arquivo JSON de 86,6MB, isto é, maior que o arquivo XML que o originou (77,5MB). Abaixo é apresentado uma linha deste arquivo de saída."
   ]
  },
  {
   "cell_type": "code",
   "execution_count": null,
   "metadata": {
    "collapsed": true
   },
   "outputs": [],
   "source": [
    "{\"created\": {\"changeset\": \"16953747\",\n",
    "             \"user\": \"fbello\",\n",
    "             \"version\": \"3\", \n",
    "             \"uid\": \"79543\", \n",
    "             \"timestamp\": \"2013-07-14T19:50:01Z\"},\n",
    " \"type\": \"node\",\n",
    " pos\": [-23.5594684, -46.7072388],\n",
    " \"id\": \"573640\"} "
   ]
  },
  {
   "cell_type": "markdown",
   "metadata": {},
   "source": [
    "O arquivo JSON foi carregado no MongoDB utilizando o comando __*mongoimport -d sample-osm -c rmsp --file sample.json*__ - no prompt do sistema operacional - no qual: *sample-osm*, é nome da base da dados; e *rmsp* é o nome da coleção."
   ]
  },
  {
   "cell_type": "markdown",
   "metadata": {},
   "source": [
    "# 3)  ANÁLISE DOS DADOS </p>  "
   ]
  },
  {
   "cell_type": "markdown",
   "metadata": {},
   "source": [
    "### Qual o tamanho da base?\n",
    "*__show dbs__*\n",
    ">  (0.203GB)"
   ]
  },
  {
   "cell_type": "markdown",
   "metadata": {},
   "source": [
    "### Qual o número de documentos da base?\n",
    "*__db.rmsp.find().count()__*\n",
    ">  385000"
   ]
  },
  {
   "cell_type": "markdown",
   "metadata": {},
   "source": [
    "### Qual o número de usuários únicos na base?\n",
    "*__db.rmsp.distinct('created.user').length__*\n",
    "> 1233"
   ]
  },
  {
   "cell_type": "markdown",
   "metadata": {},
   "source": [
    "### Quais os 3 usuários com maior número de contribuições?"
   ]
  },
  {
   "cell_type": "code",
   "execution_count": null,
   "metadata": {
    "collapsed": true
   },
   "outputs": [],
   "source": [
    "db.rmsp.aggregate([{\"$group\": {\"_id\":\"$created.user\",\"count\":{\"$sum\":1}}},{\"$sort\":{\"count\":-1}},{\"$limit\":3}"
   ]
  },
  {
   "cell_type": "markdown",
   "metadata": {},
   "source": [
    ">      \n",
    "    { \"_id\" : \"Bonix-Mapper\", \"count\" : 171080 }\n",
    "    { \"_id\" : \"AjBelnuovo\", \"count\" : 21330 }\n",
    "    { \"_id\" : \"cxs\", \"count\" : 19876 }"
   ]
  },
  {
   "cell_type": "markdown",
   "metadata": {},
   "source": [
    "### Qual o número de nós e caminhos encontrado na base?\n",
    "Número de nós (node):"
   ]
  },
  {
   "cell_type": "markdown",
   "metadata": {},
   "source": [
    "    db.rmsp.find({\"type\":\"node\"}).count() \n",
    "> 338059"
   ]
  },
  {
   "cell_type": "markdown",
   "metadata": {},
   "source": [
    "Número de caminhos (way):"
   ]
  },
  {
   "cell_type": "markdown",
   "metadata": {},
   "source": [
    "     db.rmsp.find({\"type\":\"way\"}).count()\n",
    "> 46935"
   ]
  },
  {
   "cell_type": "markdown",
   "metadata": {},
   "source": [
    "### Qual o número de nós com o nome de  \"Ponto de Ônibus\"?"
   ]
  },
  {
   "cell_type": "markdown",
   "metadata": {},
   "source": []
  },
  {
   "cell_type": "markdown",
   "metadata": {},
   "source": [
    "### Quais as 10 [amenities](http://wiki.openstreetmap.org/wiki/Key:amenity) que mais apareceram?"
   ]
  },
  {
   "cell_type": "markdown",
   "metadata": {},
   "source": [
    "    db.rmsp.aggregate([{\"$match\":{\"amenity\":{\"$exists\":1}}},{\"$group\":{\"_id\":\"$amenity\",\"count\":{\"$sum\":1}}},{\"$sort\":{\"count\":-1}},{\"$limit\":10}])"
   ]
  },
  {
   "cell_type": "markdown",
   "metadata": {},
   "source": [
    ">   \n",
    "    { \"_id\" : \"parking\", \"count\" : 303 }\n",
    "    { \"_id\" : \"fuel\", \"count\" : 186 }\n",
    "    { \"_id\" : \"restaurant\", \"count\" : 128 }\n",
    "    { \"_id\" : \"school\", \"count\" : 117 }\n",
    "    { \"_id\" : \"bank\", \"count\" : 103 }\n",
    "    { \"_id\" : \"fast_food\", \"count\" : 71 }\n",
    "    { \"_id\" : \"place_of_worship\", \"count\" : 69 }\n",
    "    { \"_id\" : \"pharmacy\", \"count\" : 52 }\n",
    "    { \"_id\" : \"pub\", \"count\" : 34 }\n",
    "    { \"_id\" : \"hospital\", \"count\" : 30 }"
   ]
  },
  {
   "cell_type": "markdown",
   "metadata": {},
   "source": [
    "# 4.0) CONCLUSÕES"
   ]
  },
  {
   "cell_type": "markdown",
   "metadata": {},
   "source": [
    "Problemas encontrados no seu mapa </p>   Visão geral dos Dados  </p>     \n",
    "Outras ideias em relação aos conjuntos de dados  "
   ]
  }
 ],
 "metadata": {
  "anaconda-cloud": {
   "attach-environment": true,
   "summary": "Limpando dados do OSM na RMSP"
  },
  "kernelspec": {
   "display_name": "Python [conda root]",
   "language": "python",
   "name": "conda-root-py"
  },
  "language_info": {
   "codemirror_mode": {
    "name": "ipython",
    "version": 2
   },
   "file_extension": ".py",
   "mimetype": "text/x-python",
   "name": "python",
   "nbconvert_exporter": "python",
   "pygments_lexer": "ipython2",
   "version": "2.7.12"
  }
 },
 "nbformat": 4,
 "nbformat_minor": 1
}
