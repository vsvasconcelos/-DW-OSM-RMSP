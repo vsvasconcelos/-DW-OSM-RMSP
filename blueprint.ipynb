{
 "cells": [
  {
   "cell_type": "markdown",
   "metadata": {},
   "source": [
    "# As melhores práticas (blueprint) para a limpeza de dados"
   ]
  },
  {
   "cell_type": "markdown",
   "metadata": {},
   "source": [
    "Conforme [Bradshaw](https://br.udacity.com/course/data-wrangling-with-mongodb--ud032/), as melhores práticas (blueprint) para a limpeza de dados envolvem 6 etapas, sendo elas: </p>  \n",
    "1) Auditar os dados: verificando os dados de forma programática (não manual), utilizando regras de validação definidas previamente e gerando como resultado um relatório sobre a qualidade dos dados. Pode incluir ainda uma análise estatística, verificando a existencia de exceções; </p>  \n",
    "2) Criar de um plano de limpeza dos dados: identificando as causas erros dos dados brutos; definindo as operações que devem ser realizadas, de forma a corrigir esses erros; e testando as operações que pretende-se realizar verificando se terão os efeitos desejados; </p>  \n",
    "3) Executar o plano: gerando um script (programa computacional); </p>  \n",
    "4) Corregir manualmente: se necessário; </p>  \n",
    "5) Análise dos interessados: as pessoas envolvidas; </p>  \n",
    "6) Iteração: voltando ao item 1 e seguintes até ter-se confiança nos dados."
   ]
  },
  {
   "cell_type": "markdown",
   "metadata": {},
   "source": [
    "# Métricas de qualidade dos dados"
   ]
  },
  {
   "cell_type": "markdown",
   "metadata": {},
   "source": [
    "Com relação a confiança dos dados, Bradshaw citam 5 métricas de qualidade, sendo elas:</P>  \n",
    "1) Validade: até que ponto as entradas no conjunto de dados estão de acordo com um esquema definido ou outras restrições existentes;</P>  \n",
    "2) Acurácia: até que ponto as entradas seguem os padrões ouros (gold standard). ex.: Todos os endereços de rua existem? Para testar deve-se ter um conjunto de dados padrão (no qual se confia);</P>  \n",
    "3) Completude (completeness): temos todos os registros que devemos ter;</P>  \n",
    "4) Consistência: quando se tem os mesmos dados em vários registros (ex. várias tabelas), deve-se garantir que em todos eles haja coerência;</P>  \n",
    "5) Uniformidade: mesmas unidades; ex. todas as distância em km ou m. "
   ]
  }
 ],
 "metadata": {
  "anaconda-cloud": {},
  "kernelspec": {
   "display_name": "Python [default]",
   "language": "python",
   "name": "python2"
  },
  "language_info": {
   "codemirror_mode": {
    "name": "ipython",
    "version": 2
   },
   "file_extension": ".py",
   "mimetype": "text/x-python",
   "name": "python",
   "nbconvert_exporter": "python",
   "pygments_lexer": "ipython2",
   "version": "2.7.12"
  }
 },
 "nbformat": 4,
 "nbformat_minor": 1
}
